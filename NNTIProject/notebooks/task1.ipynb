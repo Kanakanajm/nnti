{
  "cells": [
    {
      "cell_type": "markdown",
      "metadata": {
        "colab_type": "text",
        "id": "view-in-github"
      },
      "source": [
        "<a href=\"https://colab.research.google.com/github/Kanakanajm/nnti/blob/main/NNTIProject/notebooks/task1.ipynb\" target=\"_parent\"><img src=\"https://colab.research.google.com/assets/colab-badge.svg\" alt=\"Open In Colab\"/></a>"
      ]
    },
    {
      "cell_type": "markdown",
      "metadata": {
        "id": "DkX9RUHoyGiC"
      },
      "source": [
        "# Task 1: Language model inference"
      ]
    },
    {
      "cell_type": "markdown",
      "metadata": {
        "id": "NeDwragyyGiD"
      },
      "source": [
        "The goal if this first task is to familiarize yourself with the huggingface transformers and dataset libraries. You will learn how to load and tokenize a dataset, how to load a pre-trained language model, and finally, how to run a model in inference mode."
      ]
    },
    {
      "cell_type": "markdown",
      "metadata": {
        "id": "gJXFu83CyGiE"
      },
      "source": [
        "Your task is to complete the missing code blocks below."
      ]
    },
    {
      "cell_type": "code",
      "execution_count": 1,
      "metadata": {
        "colab": {
          "base_uri": "https://localhost:8080/"
        },
        "id": "hCded8SiytrN",
        "outputId": "64ebc64c-a03c-47fb-d03e-e25d5e3a952f"
      },
      "outputs": [],
      "source": [
        "# Uncomment this if you're viewing this on Google Colab\n",
        "\n",
        "# download the requirements.txt hosted on a Github public gist\n",
        "# !wget https://gist.githubusercontent.com/CamiloMartinezM/7eb6f86e2642e24776c90433c29133de/raw/8e7d8ab19bc8f55fe2e837c1d1d0fe3026519fb1/requirements.txt -O requirements.txt\n",
        "# install the required libraries\n",
        "# !pip install -r requirements.txt"
      ]
    },
    {
      "cell_type": "code",
      "execution_count": 2,
      "metadata": {
        "id": "gY679751yGiE"
      },
      "outputs": [],
      "source": [
        "# import dependencies\n",
        "from typing import Callable, Any\n",
        "from functools import partial\n",
        "import matplotlib.pyplot as plt\n",
        "import matplotlib\n",
        "import warnings\n",
        "import numpy as np\n",
        "import torch\n",
        "import json\n",
        "import os\n",
        "\n",
        "from datasets import (\n",
        "    load_dataset,\n",
        "    load_dataset_builder,\n",
        "    get_dataset_split_names,\n",
        "    get_dataset_config_names,\n",
        ")\n",
        "from transformers import (\n",
        "    XGLMTokenizer,\n",
        "    XGLMTokenizerFast,\n",
        "    XGLMForCausalLM,\n",
        "    AutoModelForCausalLM,\n",
        "    AutoTokenizer,\n",
        "    GenerationConfig,\n",
        ")\n",
        "\n",
        "# added constants that will be used throughout the notebook\n",
        "USE_SPLITS = [\"dev\", \"devtest\"]  # Set up the splits to download\n",
        "IGNORE_PADDING_TOKEN_INT = -100  # Ignore padding token explicitly. If it is None, then no explicit ignoring is done.\n",
        "PER_BATCH_PADDING = (\n",
        "    True  # global variable that defines if per-batch padding should be used, instead of padding over the whole dataset\n",
        ")\n",
        "BATCH_SIZE = 2  # for testing purposes, we start with a batch size of 2. You can change this later.\n",
        "SPLIT_TO_PLOT = \"devtest\"  # Set up the split to plot at the end\n",
        "TORCH_DEVICE = torch.device(\"cuda\") if torch.cuda.is_available() else torch.device(\"cpu\")  # device to run the model on\n",
        "\n",
        "# set up figure parameters to make them look nice\n",
        "plt.rcParams[\"axes.formatter.use_mathtext\"] = True\n",
        "matplotlib.rcParams[\"font.family\"] = \"cmr10\"\n",
        "matplotlib.rcParams[\"axes.unicode_minus\"] = False\n",
        "matplotlib.rcParams.update({\"font.size\": 11})\n",
        "matplotlib.rcParams[\"figure.dpi\"] = 100\n",
        "\n",
        "# other utils functions\n",
        "from copy import deepcopy\n",
        "from pprint import pprint, pformat\n",
        "\n",
        "\n",
        "def left_indent(text, indent: str = \"\\t\"):\n",
        "    return \"\".join([indent + l for l in text.splitlines(True)])\n",
        "\n",
        "\n",
        "def pprint_tab(obj, indent: str = \"\\t\"):\n",
        "    print(left_indent(pformat(obj), indent))\n",
        "\n",
        "\n",
        "def get_available_objects(data):\n",
        "    return [obj for obj in dir(data) if not obj.startswith(\"__\")]\n",
        "\n",
        "\n",
        "def copy(obj):\n",
        "    return deepcopy(obj)\n",
        "\n",
        "\n",
        "def save_tensor_to(dst: str, filename: str, t: torch.Tensor, overwrite: bool = True) -> None:\n",
        "    if not os.path.exists(dst):\n",
        "        os.makedirs(dst)\n",
        "    fullpath = os.path.join(dst, filename)\n",
        "    # save to file if it does not exist or if it does exist and overwrite = True\n",
        "    if (os.path.exists(fullpath) and overwrite) or not os.path.exists(fullpath):\n",
        "        torch.save(t, fullpath)\n",
        "\n",
        "\n",
        "def join_list_elements_with_char(elements: list, join_char: str = \"_\") -> str:\n",
        "    \"\"\"Joins the string representations of elements in a list with a specified character.\"\"\"\n",
        "    if len(elements) == 0:\n",
        "        return \"\"\n",
        "\n",
        "    # Convert all elements to strings in case they are not\n",
        "    str_elements = [str(element) for element in elements]\n",
        "    # Join the string elements with the specified character\n",
        "    return join_char.join(str_elements)\n",
        "\n",
        "\n",
        "def save_json_to(dst: str, filename: str, json_var: dict, overwrite: bool = True) -> None:\n",
        "    \"\"\"Save data to a specified file in JSON format.\"\"\"\n",
        "    if not os.path.exists(dst):\n",
        "        os.makedirs(dst)\n",
        "\n",
        "    # Check if the file already exists\n",
        "    filename_fullpath = os.path.join(dst, filename)\n",
        "    if os.path.exists(filename_fullpath) and not overwrite:\n",
        "        warnings.warn(f\"The file {filename_fullpath} already exists and it won't be overwritten.\")\n",
        "        return\n",
        "\n",
        "    with open(filename_fullpath, \"w\") as f:\n",
        "        json.dump(json_var, f, sort_keys=True, indent=4)\n",
        "\n",
        "\n",
        "def load_json_from(src: str, filename: str, trigger_exception: bool = False, trigger_warning: bool = True) -> dict:\n",
        "    \"\"\"Load JSON data from a specified file to a dictionary.\"\"\"\n",
        "    filename_fullpath = os.path.join(src, filename)\n",
        "    if os.path.exists(filename_fullpath):\n",
        "        with open(filename_fullpath, \"r\") as f:\n",
        "            json_var = json.load(f)\n",
        "        return json_var\n",
        "    else:\n",
        "        if trigger_warning:\n",
        "            warnings.warn(f\"{filename_fullpath} does not exist, returning None instead\")\n",
        "        elif trigger_exception:\n",
        "            raise Exception(f\"{filename_fullpath} does not exist\")\n",
        "        return None\n",
        "\n",
        "\n",
        "def make_str_safe_for_dirs(\n",
        "    input_str: str, chars_to_replace: list = [\"/\", \"\\\\\", \":\", \"*\", \"?\", '\"', \"<\", \">\", \"|\"], replacement_char=\"\"\n",
        "):\n",
        "    \"\"\"Sanitizes a string by replacing specified characters with a replacement character.\"\"\"\n",
        "    # Replace each specified character with the replacement character\n",
        "    for char in chars_to_replace:\n",
        "        input_str = input_str.replace(char, replacement_char)\n",
        "\n",
        "    return input_str\n",
        "\n",
        "\n",
        "def load_or_generate_data(directory: str, filename: str, generation_func: Callable, *args, **kwargs) -> Any:\n",
        "    \"\"\"Attempt to load data from a JSON file. If the file does not exist, the data is generated using a specified\n",
        "    function, saved to the file, and then returned.\n",
        "\n",
        "    This function is useful for situations where you want to cache data that takes a long time to compute by saving it\n",
        "    to a file and loading it directly if it already exists. If the JSON file cannot be found, the generation_func is\n",
        "    called with the provided args and kwargs, the result is saved to a JSON file, and then returned.\n",
        "\n",
        "    Parameters\n",
        "    ----------\n",
        "    directory : str\n",
        "        Directory where the file is located or will be saved.\n",
        "    filename : str\n",
        "        Name of the file to load or save the data.\n",
        "    generation_func : Callable\n",
        "        Function to generate the data if the file does not exist. It should return the data to be saved.\n",
        "    *args\n",
        "        Positional arguments to pass to the generation function.\n",
        "    **kwargs\n",
        "        Keyword arguments to pass to the generation function.\n",
        "\n",
        "    Returns\n",
        "    -------\n",
        "    Any\n",
        "        The loaded or generated data.\n",
        "    \"\"\"\n",
        "    data = load_json_from(directory, filename, trigger_warning=False)\n",
        "    if data is None:\n",
        "        print(f\"File {filename} not found. Generating data...\")\n",
        "        data = generation_func(*args, **kwargs)\n",
        "        save_json_to(directory, filename, data)\n",
        "    else:\n",
        "        print(f\"Data loaded from {filename}.\")\n",
        "    return data"
      ]
    },
    {
      "cell_type": "markdown",
      "metadata": {
        "id": "ThsL58C7yGiF"
      },
      "source": [
        "## Explore dataset"
      ]
    },
    {
      "cell_type": "code",
      "execution_count": 3,
      "metadata": {
        "id": "qzjLa0HFyGiG"
      },
      "outputs": [],
      "source": [
        "DATA_SET_NAME = \"facebook/flores\"  # specify dataset name\n",
        "MODEL_NAME = \"facebook/xglm-564M\"  # specify model name\n",
        "# MODEL_NAME = \"gpt2\" # specify model name"
      ]
    },
    {
      "cell_type": "code",
      "execution_count": 4,
      "metadata": {
        "colab": {
          "base_uri": "https://localhost:8080/"
        },
        "id": "ykm-mZH5yGiG",
        "outputId": "b17b1297-20a7-4157-8d12-f5087bdf88b6"
      },
      "outputs": [
        {
          "name": "stdout",
          "output_type": "stream",
          "text": [
            "The creation of FLORES-200 doubles the existing language coverage of FLORES-101. \n",
            "Given the nature of the new languages, which have less standardization and require \n",
            "more specialized professional translations, the verification process became more complex. \n",
            "This required modifications to the translation workflow. FLORES-200 has several languages \n",
            "which were not translated from English. Specifically, several languages were translated \n",
            "from Spanish, French, Russian and Modern Standard Arabic. Moreover, FLORES-200 also \n",
            "includes two script alternatives for four languages. FLORES-200 consists of translations \n",
            "from 842 distinct web articles, totaling 3001 sentences. These sentences are divided \n",
            "into three splits: dev, devtest, and test (hidden). On average, sentences are approximately \n",
            "21 words long.\n",
            "\n"
          ]
        }
      ],
      "source": [
        "# Explore a dataset\n",
        "LANGUAGE_CODE = \"deu_Latn\"  # Language to explore\n",
        "\n",
        "# covered language codes can be found here: https://github.com/openlanguagedata/flores?tab=readme-ov-file#language-coverage\n",
        "\n",
        "ds_builder = load_dataset_builder(DATA_SET_NAME, LANGUAGE_CODE, trust_remote_code=True)\n",
        "print(ds_builder.info.description)  # print the dataset description"
      ]
    },
    {
      "cell_type": "code",
      "execution_count": 5,
      "metadata": {
        "colab": {
          "base_uri": "https://localhost:8080/"
        },
        "id": "bWPEtiHQyGiH",
        "outputId": "24fef9b3-e561-4f25-ea2a-f5d8c0ade8b7"
      },
      "outputs": [
        {
          "name": "stdout",
          "output_type": "stream",
          "text": [
            "{'URL': Value(dtype='string', id=None),\n",
            " 'domain': Value(dtype='string', id=None),\n",
            " 'has_hyperlink': Value(dtype='int32', id=None),\n",
            " 'has_image': Value(dtype='int32', id=None),\n",
            " 'id': Value(dtype='int32', id=None),\n",
            " 'sentence': Value(dtype='string', id=None),\n",
            " 'topic': Value(dtype='string', id=None)}\n"
          ]
        }
      ],
      "source": [
        "# print the features (columns) of the dataset\n",
        "pprint(ds_builder.info.features)"
      ]
    },
    {
      "cell_type": "code",
      "execution_count": 6,
      "metadata": {
        "colab": {
          "base_uri": "https://localhost:8080/"
        },
        "id": "tKMnuu6CyGiH",
        "outputId": "e99cd7fb-d094-4bf8-c230-b18c79d1842e"
      },
      "outputs": [
        {
          "name": "stdout",
          "output_type": "stream",
          "text": [
            "None\n"
          ]
        }
      ],
      "source": [
        "# get the available splits\n",
        "pprint(ds_builder.info.splits)"
      ]
    },
    {
      "cell_type": "markdown",
      "metadata": {
        "id": "ewZsNJHUyGiH"
      },
      "source": [
        "## Load data, tokenize, and batchify"
      ]
    },
    {
      "cell_type": "code",
      "execution_count": 7,
      "metadata": {
        "id": "yUQA9jZGyGiH"
      },
      "outputs": [],
      "source": [
        "# specify languages\n",
        "LANGUAGES = [\"eng_Latn\", \"spa_Latn\", \"ita_Latn\", \"deu_Latn\", \"arb_Arab\", \"tel_Telu\", \"tam_Taml\", \"quy_Latn\"]"
      ]
    },
    {
      "cell_type": "code",
      "execution_count": 8,
      "metadata": {
        "colab": {
          "base_uri": "https://localhost:8080/"
        },
        "id": "N-srcnhWyGiH",
        "outputId": "a09db696-114a-4a18-d787-09b5babc1ddd"
      },
      "outputs": [
        {
          "name": "stdout",
          "output_type": "stream",
          "text": [
            "Loading dataset for eng_Latn... done\n",
            "Loading dataset for spa_Latn... done\n",
            "Loading dataset for ita_Latn... done\n",
            "Loading dataset for deu_Latn... done\n",
            "Loading dataset for arb_Arab... done\n",
            "Loading dataset for tel_Telu... done\n",
            "Loading dataset for tam_Taml... done\n",
            "Loading dataset for quy_Latn... done\n"
          ]
        }
      ],
      "source": [
        "\"\"\"\n",
        "load flores data for each language\n",
        "structure:\n",
        "dataset_per_lang = {\n",
        "  language: {\n",
        "      \"dataset\": {\n",
        "           split (dev/devtest): {\n",
        "               \"raw\": raw dataset (without tokenization),\n",
        "               \"tokenized\": tokenized dataset\n",
        "           }\n",
        "      },\n",
        "      \"dataloader\": {\n",
        "           split (dev/devtest): dataloader for the split\n",
        "      }\n",
        "  }\n",
        "}\n",
        "\"\"\"\n",
        "\n",
        "orig_dataset_per_lang = {}\n",
        "for language in LANGUAGES:\n",
        "    print(f\"Loading dataset for {language}\", end=\"... \")\n",
        "\n",
        "    # add a dataloader key set to None, they are defined in the cell tagged @dataloader-creation\n",
        "    orig_dataset_per_lang[language] = {\"dataset\": {}, \"dataloader\": None}\n",
        "\n",
        "    for split in USE_SPLITS:\n",
        "        orig_dataset_per_lang[language][\"dataset\"][split] = {}\n",
        "        orig_dataset_per_lang[language][\"dataset\"][split][\"raw\"] = load_dataset(\n",
        "            DATA_SET_NAME,\n",
        "            language,\n",
        "            split=split,\n",
        "            trust_remote_code=True,\n",
        "            cache_dir=\"../cache/languages\",\n",
        "        )\n",
        "\n",
        "    print(\"done\")"
      ]
    },
    {
      "cell_type": "code",
      "execution_count": 9,
      "metadata": {
        "colab": {
          "base_uri": "https://localhost:8080/"
        },
        "id": "sfbfrwJqyGiI",
        "outputId": "d2820165-1eeb-417e-cc57-f7e1067a5783"
      },
      "outputs": [
        {
          "name": "stdout",
          "output_type": "stream",
          "text": [
            "Size of the english dataset: 501481\n",
            "Features:\n",
            "\t{'URL': Value(dtype='string', id=None),\n",
            "\t 'domain': Value(dtype='string', id=None),\n",
            "\t 'has_hyperlink': Value(dtype='int32', id=None),\n",
            "\t 'has_image': Value(dtype='int32', id=None),\n",
            "\t 'id': Value(dtype='int32', id=None),\n",
            "\t 'sentence': Value(dtype='string', id=None),\n",
            "\t 'topic': Value(dtype='string', id=None)}\n",
            "\n",
            "Splits:\n",
            "\t{'dev': SplitInfo(name='dev',\n",
            "\t                  num_bytes=245488,\n",
            "\t                  num_examples=997,\n",
            "\t                  shard_lengths=None,\n",
            "\t                  dataset_name='flores'),\n",
            "\t 'devtest': SplitInfo(name='devtest',\n",
            "\t                      num_bytes=255993,\n",
            "\t                      num_examples=1012,\n",
            "\t                      shard_lengths=None,\n",
            "\t                      dataset_name='flores')}\n"
          ]
        }
      ],
      "source": [
        "# let's look at the English subset\n",
        "EX_DATASET_LANG = \"eng_Latn\"\n",
        "english_dataset = orig_dataset_per_lang[EX_DATASET_LANG][\"dataset\"][\"dev\"][\"raw\"]\n",
        "print(f\"Size of the english dataset: {english_dataset.info.dataset_size}\")\n",
        "print(\"Features:\")\n",
        "pprint_tab(english_dataset.info.features)\n",
        "print(\"\\nSplits:\")\n",
        "pprint_tab(english_dataset.info.splits)"
      ]
    },
    {
      "cell_type": "code",
      "execution_count": 10,
      "metadata": {
        "colab": {
          "base_uri": "https://localhost:8080/"
        },
        "id": "ybaBi08AyGiI",
        "outputId": "3b936080-5015-4a5b-de48-96581a8945fd"
      },
      "outputs": [
        {
          "name": "stdout",
          "output_type": "stream",
          "text": [
            "Viewing raw samples from eng_Latn:\n",
            "\n",
            "\tFirst sample from dev split:\n",
            "\t\t{'URL': 'https://en.wikinews.org/wiki/Scientists_say_new_medical_diagnostic_chip_can_sort_cells_anywhere_with_an_inkjet',\n",
            "\t\t 'domain': 'wikinews',\n",
            "\t\t 'has_hyperlink': 0,\n",
            "\t\t 'has_image': 0,\n",
            "\t\t 'id': 1,\n",
            "\t\t 'sentence': 'On Monday, scientists from the Stanford University School of '\n",
            "\t\t             'Medicine announced the invention of a new diagnostic tool that '\n",
            "\t\t             'can sort cells by type: a tiny printable chip that can be '\n",
            "\t\t             'manufactured using standard inkjet printers for possibly about '\n",
            "\t\t             'one U.S. cent each.',\n",
            "\t\t 'topic': 'health'}\n",
            "\n",
            "\t996-th sample from dev split:\n",
            "\t\t{'URL': 'https://en.wikivoyage.org/wiki/Funeral_travel',\n",
            "\t\t 'domain': 'wikivoyage',\n",
            "\t\t 'has_hyperlink': 0,\n",
            "\t\t 'has_image': 0,\n",
            "\t\t 'id': 997,\n",
            "\t\t 'sentence': 'In all cases, you must book by phone directly with the airline.',\n",
            "\t\t 'topic': 'Reason to travel/Funeral travel'}\n",
            "\n",
            "\tFirst sample from devtest split:\n",
            "\t\t{'URL': 'https://en.wikinews.org/wiki/Toronto_team-led_research_on_Type_1_Diabetes_%27groundbreaking%27',\n",
            "\t\t 'domain': 'wikinews',\n",
            "\t\t 'has_hyperlink': 0,\n",
            "\t\t 'has_image': 0,\n",
            "\t\t 'id': 1,\n",
            "\t\t 'sentence': '\"We now have 4-month-old mice that are non-diabetic that used to '\n",
            "\t\t             'be diabetic,\" he added.',\n",
            "\t\t 'topic': 'disease, research, canada'}\n",
            "\n",
            "\t1011-th sample from devtest split:\n",
            "\t\t{'URL': 'https://en.wikivoyage.org/wiki/Working_and_studying_in_Japan',\n",
            "\t\t 'domain': 'wikivoyage',\n",
            "\t\t 'has_hyperlink': 0,\n",
            "\t\t 'has_image': 0,\n",
            "\t\t 'id': 1012,\n",
            "\t\t 'sentence': \"Workers must often get their superiors' approval for any \"\n",
            "\t\t             \"decisions they make, and are expected to obey their superiors' \"\n",
            "\t\t             'instructions without question.',\n",
            "\t\t 'topic': 'Reason to travel/Working in Japan'}\n"
          ]
        }
      ],
      "source": [
        "# let's look at an individual sample from the dataset\n",
        "def get_sample(idx: int, lang: str, split: str, data: str, dataset: dict = orig_dataset_per_lang):\n",
        "    return dataset[lang][\"dataset\"][split][data][idx]\n",
        "\n",
        "\n",
        "print(f\"Viewing raw samples from {EX_DATASET_LANG}:\")\n",
        "for split in USE_SPLITS:\n",
        "    first_sample = get_sample(0, EX_DATASET_LANG, split, \"raw\")\n",
        "    last_sample = get_sample(-1, EX_DATASET_LANG, split, \"raw\")\n",
        "    dataset_len = len(orig_dataset_per_lang[EX_DATASET_LANG][\"dataset\"][split][\"raw\"]) - 1\n",
        "\n",
        "    print(\"\")\n",
        "    print(f\"\\tFirst sample from {split} split:\")\n",
        "    pprint_tab(first_sample, indent=\"\\t\\t\")\n",
        "    print(\"\")\n",
        "    print(f\"\\t{dataset_len}-th sample from {split} split:\")\n",
        "    pprint_tab(last_sample, indent=\"\\t\\t\")"
      ]
    },
    {
      "cell_type": "code",
      "execution_count": 11,
      "metadata": {
        "id": "s7chX4dLyGiI"
      },
      "outputs": [],
      "source": [
        "# tokenize the data\n",
        "def apply_tokenizer(tokenizer: XGLMTokenizerFast, example: dict, padding: str = None):\n",
        "    \"\"\"Specify the tokenization function. If padding is specified, then it is used inside the tokenizer function.\"\"\"\n",
        "    return tokenizer(\n",
        "        example[\"sentence\"],\n",
        "        padding=padding if padding else False,\n",
        "        truncation=True if padding else False,\n",
        "        return_tensors=\"pt\",\n",
        "    )\n",
        "\n",
        "\n",
        "def add_batch_dimension(example: dict) -> dict:\n",
        "    \"\"\"Adds a batch dimension to the tensors. This function assumes the tensors are already in PyTorch tensors and\n",
        "    simply unsqueezes them at the first dimension.\n",
        "    See: https://stackoverflow.com/questions/57237352/what-does-unsqueeze-do-in-pytorch\n",
        "    \"\"\"\n",
        "    example[\"input_ids\"] = example[\"input_ids\"].unsqueeze(0)\n",
        "    example[\"attention_mask\"] = example[\"attention_mask\"].unsqueeze(0)\n",
        "    return example\n",
        "\n",
        "\n",
        "def tokenize_dataset(dataset: dict, model_name: str) -> dict:\n",
        "    \"\"\"Tokenize the dataset using a loaded pre-trained tokenizer from huggingface that goes with the specified model.\"\"\"\n",
        "    tokenizer = AutoTokenizer.from_pretrained(model_name, cache_dir=\"../cache/tokenizers\")\n",
        "\n",
        "    # gpt2 does not have a padding token, so we have to add it manually\n",
        "    if model_name == \"gpt2\":\n",
        "        tokenizer.add_special_tokens({\"pad_token\": tokenizer.unk_token})\n",
        "\n",
        "    new_dataset = copy(dataset)\n",
        "    for language in dataset:\n",
        "        for split in dataset[language][\"dataset\"]:\n",
        "            # If we are to pad the whole dataset, set `padding` to longest and pass it to the tokenization function\n",
        "            if not PER_BATCH_PADDING:\n",
        "                raw_dataset = copy(dataset[language][\"dataset\"][split][\"raw\"])\n",
        "\n",
        "                # Tokenize the dataset\n",
        "                tokenized_dataset = raw_dataset.map(\n",
        "                    lambda example: apply_tokenizer(tokenizer, example, padding=\"longest\"), batched=True\n",
        "                )\n",
        "\n",
        "                # Update the tokenized dataset with Pytorch format\n",
        "                tokenized_dataset.set_format(type=\"torch\", columns=[\"input_ids\", \"attention_mask\"])\n",
        "\n",
        "                # Apply unsqueeze operation\n",
        "                tokenized_dataset = tokenized_dataset.map(\n",
        "                    lambda example: add_batch_dimension(example),\n",
        "                    batched=False,  # Set batched=False to apply function to each example individually\n",
        "                )\n",
        "\n",
        "                # Update the new dataset with the tokenized dataset\n",
        "                new_dataset[language][\"dataset\"][split][\"tokenized\"] = tokenized_dataset\n",
        "            else:  # If per batch padding is to be used, we cannot tokenize the dataset here,\n",
        "                new_dataset[language][\"dataset\"][split][\"tokenized\"] = None\n",
        "\n",
        "    return new_dataset, tokenizer\n",
        "\n",
        "dataset_per_lang, tokenizer = tokenize_dataset(orig_dataset_per_lang, MODEL_NAME)"
      ]
    },
    {
      "cell_type": "code",
      "execution_count": 12,
      "metadata": {
        "colab": {
          "base_uri": "https://localhost:8080/"
        },
        "id": "K7eKdyW-yGiJ",
        "outputId": "6cfcf65c-1c6f-4a3d-ff43-6672505dff02",
        "tags": [
          "dataloader-creation"
        ]
      },
      "outputs": [
        {
          "name": "stdout",
          "output_type": "stream",
          "text": [
            "Creating dataloaders for eng_Latn (dev: 499, devtest: 506 instances)\n",
            "Creating dataloaders for spa_Latn (dev: 499, devtest: 506 instances)\n",
            "Creating dataloaders for ita_Latn (dev: 499, devtest: 506 instances)\n",
            "Creating dataloaders for deu_Latn (dev: 499, devtest: 506 instances)\n",
            "Creating dataloaders for arb_Arab (dev: 499, devtest: 506 instances)\n",
            "Creating dataloaders for tel_Telu (dev: 499, devtest: 506 instances)\n",
            "Creating dataloaders for tam_Taml (dev: 499, devtest: 506 instances)\n",
            "Creating dataloaders for quy_Latn (dev: 499, devtest: 506 instances)\n"
          ]
        }
      ],
      "source": [
        "# construct a pytorch data loader for each dataset\n",
        "def per_batch_padding_collate_fn(batch: list, tokenizer: XGLMTokenizerFast, padding: str = \"longest\"):\n",
        "    \"\"\"Dynamically pad to the longest sequence in the batch.\"\"\"\n",
        "    sentences = [item[\"sentence\"] for item in batch]\n",
        "    batch_padded = tokenizer(\n",
        "        sentences,\n",
        "        padding=padding,\n",
        "        truncation=True,\n",
        "        return_tensors=\"pt\",\n",
        "    )\n",
        "    return batch_padded\n",
        "\n",
        "\n",
        "def batchify_dataset(\n",
        "    unbatched_dataset: dict, tokenizer: XGLMTokenizerFast, verbose: bool = True, batch_size: int = BATCH_SIZE\n",
        ") -> dict:\n",
        "    \"\"\"Batchify the tokenized dataset using the specified tokenizer.\"\"\"\n",
        "    # Create a partially applied version of the collate function that includes the tokenizer. If not defined like this,\n",
        "    # we get different results if the tokenizer is defined as a global variable instead of given by parameter.\n",
        "    collate_fn_with_tokenizer = partial(per_batch_padding_collate_fn, tokenizer=tokenizer, padding=\"longest\")\n",
        "\n",
        "    batched_dataset = copy(unbatched_dataset)\n",
        "    for language in unbatched_dataset:\n",
        "        batched_dataset[language][\"dataloader\"] = {}\n",
        "        if verbose:\n",
        "            print(f\"Creating dataloaders for {language} (\", end=\"\")\n",
        "        for i, split in enumerate(unbatched_dataset[language][\"dataset\"]):\n",
        "            # If `PER_BATCH_PADDING` is False, then the padding was applied earlier and value of the key 'tokenized' is\n",
        "            # not None. If it is True however, then we pass a collate_fn to dynamically apply padding per batch and\n",
        "            # initialize the DataLoader\n",
        "            if not PER_BATCH_PADDING:\n",
        "                curr_dataset = unbatched_dataset[language][\"dataset\"][split][\"tokenized\"]\n",
        "            else:\n",
        "                curr_dataset = unbatched_dataset[language][\"dataset\"][split][\"raw\"]\n",
        "\n",
        "            # Set the BATCH_SIZE equal to the length of the dataset, if BATCH_SIZE == -1\n",
        "            if batch_size == -1:\n",
        "                batch_size = len(curr_dataset)\n",
        "\n",
        "            if not PER_BATCH_PADDING:\n",
        "                batched_dataset[language][\"dataloader\"][split] = torch.utils.data.DataLoader(\n",
        "                    curr_dataset, batch_size=batch_size, shuffle=False\n",
        "                )\n",
        "            else:\n",
        "                batched_dataset[language][\"dataloader\"][split] = torch.utils.data.DataLoader(\n",
        "                    curr_dataset,\n",
        "                    batch_size=batch_size,\n",
        "                    collate_fn=collate_fn_with_tokenizer,\n",
        "                    shuffle=False,\n",
        "                )\n",
        "\n",
        "            if verbose:\n",
        "                print(f\"{split}: {len(batched_dataset[language]['dataloader'][split])}\", end=\"\")\n",
        "\n",
        "            if verbose and i < len(batched_dataset[language][\"dataset\"]) - 1:\n",
        "                print(\", \", end=\"\")\n",
        "\n",
        "            if batch_size == len(curr_dataset):\n",
        "                batch_size = -1\n",
        "\n",
        "        if verbose:\n",
        "            print(\" instances)\")\n",
        "\n",
        "    return batched_dataset\n",
        "\n",
        "\n",
        "dataset_per_lang = batchify_dataset(dataset_per_lang, tokenizer)"
      ]
    },
    {
      "cell_type": "code",
      "execution_count": 13,
      "metadata": {
        "colab": {
          "base_uri": "https://localhost:8080/"
        },
        "id": "ZcgsooRyyGiJ",
        "outputId": "4547b3e5-f831-4960-865d-2aa85a7b72dc"
      },
      "outputs": [
        {
          "name": "stdout",
          "output_type": "stream",
          "text": [
            "Viewing 17-th sample from eng_Latn:\n",
            "\tRaw sample:\n",
            "\t\t{'URL': 'https://en.wikinews.org/wiki/Investigation_of_Deutsche_Bank_headquarters_spills_into_second_day',\n",
            "\t\t 'domain': 'wikinews',\n",
            "\t\t 'has_hyperlink': 0,\n",
            "\t\t 'has_image': 0,\n",
            "\t\t 'id': 18,\n",
            "\t\t 'sentence': 'British newspaper The Guardian suggested Deutsche Bank '\n",
            "\t\t             'controlled roughly a third of the 1200 shell companies used to '\n",
            "\t\t             'accomplish this.',\n",
            "\t\t 'topic': 'crime'}\n",
            "\n",
            "\tTokenized sample:\n",
            "\t\t{'attention_mask': tensor([1, 1, 1, 1, 1, 1, 1, 1, 1, 1, 1, 1, 1, 1, 1, 1, 1, 1, 1, 1, 1, 1, 1, 0,\n",
            "\t\t        0, 0]),\n",
            "\t\t 'input_ids': tensor([     2,  23409, 123980,    268,  67521, 102943,  22532,   5355, 170318,\n",
            "\t\t             6, 208717,     11,  27643,     48,     32,  27933, 105094,  33409,\n",
            "\t\t          3964,     33, 169662,    319,      5,      1,      1,      1])}\n",
            "\n",
            "Viewing 17-th sample from spa_Latn:\n",
            "\tRaw sample:\n",
            "\t\t{'URL': 'https://en.wikinews.org/wiki/Investigation_of_Deutsche_Bank_headquarters_spills_into_second_day',\n",
            "\t\t 'domain': 'wikinews',\n",
            "\t\t 'has_hyperlink': 0,\n",
            "\t\t 'has_image': 0,\n",
            "\t\t 'id': 18,\n",
            "\t\t 'sentence': 'El periódico británico The Guardian señaló que Deutsche Bank '\n",
            "\t\t             'tenía el control de cerca de la tercera parte de las 1200 '\n",
            "\t\t             'compañías fantasma que se usaron para llevar esto a cabo.',\n",
            "\t\t 'topic': 'crime'}\n",
            "\n",
            "\tTokenized sample:\n",
            "\t\t{'attention_mask': tensor([1, 1, 1, 1, 1, 1, 1, 1, 1, 1, 1, 1, 1, 1, 1, 1, 1, 1, 1, 1, 1, 1, 1, 1,\n",
            "\t\t        1, 1, 1, 1, 1, 1, 1, 1, 1, 1, 1, 0, 0, 0, 0, 0, 0, 0, 0, 0, 0, 0, 0, 0,\n",
            "\t\t        0, 0, 0]),\n",
            "\t\t 'input_ids': tensor([     2,    453, 190847, 200580,     19,    268,  67521, 167160,     52,\n",
            "\t\t         22532,   5355,  39693,     85,   2867,     10,   9431,     10,     24,\n",
            "\t\t         82881,   1646,     10,    504,  27933, 218690, 190560,     52,     41,\n",
            "\t\t         18207,    231,    142,  31694,  11050,     11,  35787,      5,      1,\n",
            "\t\t             1,      1,      1,      1,      1,      1,      1,      1,      1,\n",
            "\t\t             1,      1,      1,      1,      1,      1])}\n"
          ]
        }
      ],
      "source": [
        "# let's take a look at a tokenized sample\n",
        "def get_batch_containing_sample(dataloader: torch.utils.data.dataloader.DataLoader, sample_id: int, batch_size: int):\n",
        "    \"\"\"Get the batch that contains the specified sample ID.\"\"\"\n",
        "    for batch_idx, batch in enumerate(dataloader):\n",
        "        if sample_id < (batch_idx + 1) * batch_size and sample_id >= batch_idx * batch_size:\n",
        "            return batch\n",
        "    return None\n",
        "\n",
        "\n",
        "def get_sample_from_batch(\n",
        "    dataset_per_lang: dict,\n",
        "    sample_id: int,\n",
        "    lang: str,\n",
        "    split: str,\n",
        "    data_type: str,\n",
        "    batch_size: int = BATCH_SIZE,\n",
        "    per_batch_padding: bool = PER_BATCH_PADDING,\n",
        "):\n",
        "    \"\"\"Get the given `sample_id` of the given `split` of the given language from the batch that contains it inside the\n",
        "    dataset based on the specified parameters.\"\"\"\n",
        "    if data_type == \"raw\":\n",
        "        # Return the raw sample with the normal `get_sample` function\n",
        "        sample = get_sample(sample_id, lang, split, \"raw\")\n",
        "        return sample\n",
        "    elif data_type == \"tokenized\" and not per_batch_padding:\n",
        "        # Return the tokenized sample with the normal `get_sample` function\n",
        "        sample = get_sample(sample_id, lang, split, \"tokenized\")\n",
        "        return sample\n",
        "    elif data_type == \"tokenized\" and per_batch_padding:\n",
        "        # We fetch the batch first that contains the wanted `sample_id`\n",
        "        dataloader = dataset_per_lang[lang][\"dataloader\"][split]\n",
        "        batch = get_batch_containing_sample(dataloader, sample_id, batch_size)\n",
        "        if batch is not None:\n",
        "            # Adjust indexing based on `batch` and `sample_id`\n",
        "            index_within_batch = sample_id % batch_size\n",
        "            tokenized_sample = {\n",
        "                \"input_ids\": batch[\"input_ids\"][index_within_batch],\n",
        "                \"attention_mask\": batch[\"attention_mask\"][index_within_batch],\n",
        "            }\n",
        "            return tokenized_sample\n",
        "    else:\n",
        "        return None\n",
        "\n",
        "\n",
        "# Sample ID and language\n",
        "LOOKAT_SAMPLE_ID = 17\n",
        "EX_DATASET_LANG = \"eng_Latn\"\n",
        "\n",
        "# get raw and tokenized sample\n",
        "raw_sample = get_sample_from_batch(dataset_per_lang, LOOKAT_SAMPLE_ID, EX_DATASET_LANG, \"dev\", \"raw\")\n",
        "tokenized_sample = get_sample_from_batch(dataset_per_lang, LOOKAT_SAMPLE_ID, EX_DATASET_LANG, \"dev\", \"tokenized\")\n",
        "\n",
        "print(f\"Viewing {LOOKAT_SAMPLE_ID}-th sample from {EX_DATASET_LANG}:\")\n",
        "print(\"\\tRaw sample:\")\n",
        "pprint_tab(raw_sample, indent=\"\\t\\t\")\n",
        "print(\"\\n\\tTokenized sample:\")\n",
        "pprint_tab(tokenized_sample, indent=\"\\t\\t\")\n",
        "\n",
        "EX_DATASET_LANG = \"spa_Latn\"\n",
        "\n",
        "raw_sample = get_sample_from_batch(dataset_per_lang, LOOKAT_SAMPLE_ID, EX_DATASET_LANG, \"dev\", \"raw\")\n",
        "tokenized_sample = get_sample_from_batch(dataset_per_lang, LOOKAT_SAMPLE_ID, EX_DATASET_LANG, \"dev\", \"tokenized\")\n",
        "\n",
        "print(f\"\\nViewing {LOOKAT_SAMPLE_ID}-th sample from {EX_DATASET_LANG}:\")\n",
        "print(\"\\tRaw sample:\")\n",
        "pprint_tab(raw_sample, indent=\"\\t\\t\")\n",
        "print(\"\\n\\tTokenized sample:\")\n",
        "pprint_tab(tokenized_sample, indent=\"\\t\\t\")"
      ]
    },
    {
      "cell_type": "markdown",
      "metadata": {
        "id": "CI3nKcL2yGiJ"
      },
      "source": [
        "## Load model"
      ]
    },
    {
      "cell_type": "code",
      "execution_count": 14,
      "metadata": {
        "colab": {
          "base_uri": "https://localhost:8080/"
        },
        "id": "w39ulpEMyGiK",
        "outputId": "93bf5889-56cd-402d-e467-3dc9ec554ae8"
      },
      "outputs": [
        {
          "name": "stdout",
          "output_type": "stream",
          "text": [
            "Using device: cuda\n"
          ]
        }
      ],
      "source": [
        "def load_model(model_name: str, verbose: bool = True) -> XGLMForCausalLM:\n",
        "    \"\"\"Load pre-trained model from the huggingface hub.\"\"\"\n",
        "    model = AutoModelForCausalLM.from_pretrained(model_name, cache_dir=\"../cache/models\")\n",
        "\n",
        "    # specify device on model and put the model into evaluation mode\n",
        "    model = model.to(TORCH_DEVICE)\n",
        "    if torch.cuda.is_available():\n",
        "        model = model.cuda()\n",
        "    model = model.eval()\n",
        "    if verbose:\n",
        "        print(f\"Using device: {TORCH_DEVICE}\")\n",
        "    return model\n",
        "\n",
        "\n",
        "model = load_model(MODEL_NAME)"
      ]
    },
    {
      "cell_type": "code",
      "execution_count": 15,
      "metadata": {
        "colab": {
          "base_uri": "https://localhost:8080/"
        },
        "id": "CfEsLTXQyGiK",
        "outputId": "ea6833d6-2ce2-44be-e55f-df4384180f4f"
      },
      "outputs": [
        {
          "name": "stdout",
          "output_type": "stream",
          "text": [
            "Outputs shape: torch.Size([1, 51, 256008])\n",
            "Cross-entropy loss of the sample: 4.575918674468994\n"
          ]
        }
      ],
      "source": [
        "# test cross-entropy loss on a sample\n",
        "\n",
        "# unsqueeze(0) is used to add batch dimension, so that dimension match the expected model input\n",
        "inputs = tokenized_sample[\"input_ids\"].unsqueeze(0).to(TORCH_DEVICE)\n",
        "labels = (\n",
        "    tokenized_sample[\"input_ids\"].clone().to(TORCH_DEVICE)\n",
        ")  # Using clone() to prevent the following in-place modification\n",
        "\n",
        "# Identify padding token IDs in labels and set them to -100\n",
        "# See: https://nnti.sic.saarland/t/task-1-tokenization-of-data/205/12?u=cama00005\n",
        "if IGNORE_PADDING_TOKEN_INT and tokenizer.pad_token_id is not None:\n",
        "    labels[labels == tokenizer.pad_token_id] = IGNORE_PADDING_TOKEN_INT\n",
        "\n",
        "labels = labels.unsqueeze(0).to(TORCH_DEVICE)\n",
        "attention_mask = tokenized_sample[\"attention_mask\"].unsqueeze(0).to(TORCH_DEVICE)\n",
        "\n",
        "# torch.inference_mode() is now preferred over torch.no_grad().\n",
        "# See: https://discuss.pytorch.org/t/pytorch-torch-no-grad-vs-torch-inference-mode/134099/2?u=timgianitsos\n",
        "with torch.inference_mode():\n",
        "    outputs = model(\n",
        "        inputs,\n",
        "        labels=labels,\n",
        "        attention_mask=attention_mask,\n",
        "    )\n",
        "    loss = outputs.loss.item()\n",
        "\n",
        "print(f\"Outputs shape: {outputs.logits.shape}\")  # (batch_size, sequence_length, vocab_size)\n",
        "print(f\"Cross-entropy loss of the sample: {loss}\")"
      ]
    },
    {
      "cell_type": "code",
      "execution_count": 16,
      "metadata": {
        "colab": {
          "base_uri": "https://localhost:8080/"
        },
        "id": "8M7NTcdwyGiK",
        "outputId": "027a1314-c9df-4695-dec7-d1b6f336d7a1"
      },
      "outputs": [
        {
          "name": "stdout",
          "output_type": "stream",
          "text": [
            "Data loaded from losses_xglm-564M_bs_2_pbp_True_ipt_-100.json.\n"
          ]
        }
      ],
      "source": [
        "def calculate_losses(\n",
        "    model: XGLMForCausalLM,\n",
        "    dataset: dict,\n",
        "    pad_token_id: int = None,\n",
        "    only_for_langs: list[str] = [],\n",
        "    model_name: str = None,\n",
        "    verbose: bool = True,\n",
        ") -> dict:\n",
        "    \"\"\"Calculate the cross-entropy loss using the given model, tokenizer and dataset. This function does not tokenize\n",
        "    the dataset, it assumes that the dataset is already tokenized and receives the `pad_token_id` of the tokenizer as\n",
        "    parameter to use it to ignore padding tokens in the loss calculation.\n",
        "\n",
        "    Parameters\n",
        "    ----------\n",
        "    model : XGLMForCausalLM\n",
        "        The model to use for computing the cross-entropy loss.\n",
        "    dataset : dict\n",
        "        The dataset that has the data for each split and language.\n",
        "    pad_token_id : int, optional\n",
        "        The padding token ID to ignore in the loss calculation, by default None\n",
        "    only_for_langs : list[str], optional\n",
        "        A list of languages to compute the losses for. If empty, then all languages are used, by default []\n",
        "    model_name : str, optional\n",
        "        The name of the model that was given as parameter, by default None\n",
        "    verbose : bool, optional\n",
        "        A variable to control the verbosity of the function, by default True\n",
        "\n",
        "    Returns\n",
        "    -------\n",
        "    dict\n",
        "        A dictionary containing the per-batch losses for each split in each language.\n",
        "    \"\"\"\n",
        "    # store per-batch losses for each split in each language\n",
        "    losses = {lang: {} for lang in LANGUAGES}\n",
        "\n",
        "    # Frees unused memory so it can be used by other tensors\n",
        "    torch.cuda.empty_cache()\n",
        "    try:\n",
        "        # delete variables if they exist\n",
        "        del inputs, labels, outputs\n",
        "    except NameError:\n",
        "        pass\n",
        "\n",
        "    # iterate over the dataset for each language and compute the cross-entropy loss per batch\n",
        "    for language in dataset:\n",
        "        # go to the next language if `only_for_langs` is not empty and the current language is not inside it\n",
        "        if only_for_langs and language not in only_for_langs:\n",
        "            del losses[language]\n",
        "            continue\n",
        "\n",
        "        if verbose:\n",
        "            if model_name:\n",
        "                added_model_name = f\" with {model_name if model_name else ''}\"\n",
        "            else:\n",
        "                added_model_name = \"\"\n",
        "            print(f\"Computing losses for {language}{added_model_name} (\", end=\"\")\n",
        "\n",
        "        for j, split in enumerate(dataset[language][\"dataset\"]):\n",
        "            print(f\"{split}: \", end=\"\")\n",
        "            dataloader = dataset[language][\"dataloader\"][split]\n",
        "            losses[language][split] = []\n",
        "            for _, batch in enumerate(dataloader):\n",
        "                inputs = batch[\"input_ids\"].to(TORCH_DEVICE)\n",
        "                attention_mask = batch[\"attention_mask\"].to(TORCH_DEVICE)\n",
        "                labels = (\n",
        "                    batch[\"input_ids\"].clone().to(TORCH_DEVICE)\n",
        "                )  # Using clone() to prevent the following in-place modification\n",
        "\n",
        "                # Identify padding token IDs in labels and set them to -100\n",
        "                # See: https://nnti.sic.saarland/t/task-1-tokenization-of-data/205/12?u=cama00005\n",
        "                if IGNORE_PADDING_TOKEN_INT and pad_token_id is not None:\n",
        "                    labels[labels == pad_token_id] = IGNORE_PADDING_TOKEN_INT\n",
        "\n",
        "                # torch.inference_mode() is now preferred over torch.no_grad().\n",
        "                # See: https://discuss.pytorch.org/t/pytorch-torch-no-grad-vs-torch-inference-mode/134099/2?u=timgianitsos\n",
        "                with torch.inference_mode():\n",
        "                    outputs = model(inputs, labels=labels, attention_mask=attention_mask)\n",
        "                    loss = outputs.loss.item()\n",
        "\n",
        "                losses[language][split].append(loss)\n",
        "\n",
        "                # Explicitly delete tensors to free up GPU memory\n",
        "                del inputs, labels, attention_mask, outputs\n",
        "\n",
        "            print(f\"{np.mean(losses[language][split])}\", end=\"\")\n",
        "            if j < len(dataset[language][\"dataset\"]) - 1:\n",
        "                print(\", \", end=\"\")\n",
        "\n",
        "        print(\" per-batch mean)\")\n",
        "\n",
        "        # After processing each language, try to free up memory explicitly\n",
        "        torch.cuda.empty_cache()  # Frees unused memory so it can be used by other tensors\n",
        "\n",
        "    return losses\n",
        "\n",
        "\n",
        "SAFE_MODEL_NAME = MODEL_NAME.replace(\"facebook/\", \"\")\n",
        "losses_filename = (\n",
        "    f\"losses_{SAFE_MODEL_NAME}_bs_{BATCH_SIZE}_pbp_{PER_BATCH_PADDING}_ipt_{IGNORE_PADDING_TOKEN_INT}.json\"\n",
        ")\n",
        "\n",
        "# This will load the data from the json file, if it exists. If not, it will generate it with `calculate_losses`\n",
        "losses = load_or_generate_data(\n",
        "    \"../cache/losses\",\n",
        "    losses_filename,\n",
        "    calculate_losses,\n",
        "    model,\n",
        "    dataset_per_lang,\n",
        "    pad_token_id=tokenizer.pad_token_id,\n",
        "    model_name=MODEL_NAME,\n",
        ")"
      ]
    },
    {
      "cell_type": "markdown",
      "metadata": {
        "id": "5n3En3fCyGiL"
      },
      "source": [
        "## Visualize loss per language"
      ]
    },
    {
      "cell_type": "code",
      "execution_count": 17,
      "metadata": {
        "colab": {
          "base_uri": "https://localhost:8080/",
          "height": 550
        },
        "id": "0nxMjPEwyGiL",
        "outputId": "88477905-2ad4-4fa7-8e32-e031426da8b4"
      },
      "outputs": [
        {
          "name": "stderr",
          "output_type": "stream",
          "text": [
            "/tmp/ipykernel_36544/1042507883.py:39: UserWarning: FigureCanvasAgg is non-interactive, and thus cannot be shown\n",
            "  fig.show()\n"
          ]
        },
        {
          "data": {
            "image/png": "[encoded data removed]",
            "text/plain": [
              "<Figure size 800x500 with 1 Axes>"
            ]
          },
          "metadata": {},
          "output_type": "display_data"
        }
      ],
      "source": [
        "def autolabel(rects: list, ax: plt.Axes) -> plt.Axes:\n",
        "    \"\"\"Attach a text label above each bar in *rects*, displaying its height.\"\"\"\n",
        "    for rect in rects:\n",
        "        height = rect.get_height()\n",
        "        ax.annotate(\n",
        "            \"{}\".format(round(height, 2)),\n",
        "            xy=(rect.get_x() + rect.get_width() / 2, height),\n",
        "            xytext=(0, 3),  # 3 points vertical offset\n",
        "            textcoords=\"offset points\",\n",
        "            ha=\"center\",\n",
        "            va=\"bottom\",\n",
        "        )\n",
        "    return ax\n",
        "\n",
        "# create a figure\n",
        "fig, axes = plt.subplots(figsize=(8, 5))\n",
        "\n",
        "# create a bar plot for each language\n",
        "x = np.arange(len(LANGUAGES))\n",
        "y = [np.mean(losses[_][SPLIT_TO_PLOT]) for _ in LANGUAGES]\n",
        "\n",
        "rects = axes.bar(x, y, color=\"k\")\n",
        "axes = autolabel(rects, axes)\n",
        "\n",
        "# format plot\n",
        "axes.set_xlabel(\"Language\")\n",
        "axes.set_xticks(range(len(LANGUAGES)))\n",
        "xlabels_for_plot = [label.replace(\"_\", \"$\\mathrm{\\_}$\") for label in losses.keys()]\n",
        "axes.set_xticklabels(xlabels_for_plot) \n",
        "axes.set_ylabel(\"Loss\")\n",
        "axes.set_ylim(0, 9)\n",
        "axes.set_title(MODEL_NAME)\n",
        "axes.grid(True, which=\"major\", color=\"k\", linestyle=\"-\", alpha=0.2)\n",
        "axes.grid(True, which=\"minor\", color=\"k\", linestyle=\"--\", alpha=0.1)\n",
        "axes.tick_params(axis='x', which='minor', bottom=False) # Disable minor ticks on the x-axis\n",
        "axes.minorticks_on()\n",
        "axes.set_axisbelow(True)\n",
        "fig.tight_layout()\n",
        "fig.show()"
      ]
    },
    {
      "cell_type": "code",
      "execution_count": 18,
      "metadata": {},
      "outputs": [],
      "source": [
        "# Free up memory explicitly\n",
        "del model, inputs, attention_mask, labels, outputs, loss, dataset_per_lang\n",
        "torch.cuda.empty_cache()"
      ]
    },
    {
      "cell_type": "markdown",
      "metadata": {
        "id": "Mqxxd-8GyGiL"
      },
      "source": [
        "## Comparing XGLM to GPT2"
      ]
    },
    {
      "cell_type": "markdown",
      "metadata": {
        "id": "UatIBcYByGiL"
      },
      "source": [
        "Your next task is to re-run the analysis above, but using `gpt2` as the pre-trained language model. For this exercise, focus on your native language, unless it's English or isn't covered by flores. In that case, pick another language that you can read well.\n",
        "\n",
        "Compare the language modeling loss of XGLM and GPT2. What do you observe? Investigate the differences in tokenization for XGLM and GPT2. What do you observe? How can the good (or bad) performance of GPT2 be explained?"
      ]
    },
    {
      "cell_type": "code",
      "execution_count": 19,
      "metadata": {
        "colab": {
          "base_uri": "https://localhost:8080/"
        },
        "id": "otCeI3y59mSU",
        "outputId": "fcda1f05-5011-4d4f-9fc1-6ed7f457de24"
      },
      "outputs": [
        {
          "name": "stdout",
          "output_type": "stream",
          "text": [
            "Setting up XGLM dataset:\n",
            "\n",
            "Creating dataloaders for eng_Latn (dev: 499, devtest: 506 instances)\n",
            "Creating dataloaders for spa_Latn (dev: 499, devtest: 506 instances)\n",
            "Creating dataloaders for ita_Latn (dev: 499, devtest: 506 instances)\n",
            "Creating dataloaders for deu_Latn (dev: 499, devtest: 506 instances)\n",
            "Creating dataloaders for arb_Arab (dev: 499, devtest: 506 instances)\n",
            "Creating dataloaders for tel_Telu (dev: 499, devtest: 506 instances)\n",
            "Creating dataloaders for tam_Taml (dev: 499, devtest: 506 instances)\n",
            "Creating dataloaders for quy_Latn (dev: 499, devtest: 506 instances)\n",
            "\n",
            "Setting up GPT-2 dataset:\n",
            "\n",
            "Creating dataloaders for eng_Latn (dev: 499, devtest: 506 instances)\n",
            "Creating dataloaders for spa_Latn (dev: 499, devtest: 506 instances)\n",
            "Creating dataloaders for ita_Latn (dev: 499, devtest: 506 instances)\n",
            "Creating dataloaders for deu_Latn (dev: 499, devtest: 506 instances)\n",
            "Creating dataloaders for arb_Arab (dev: 499, devtest: 506 instances)\n",
            "Creating dataloaders for tel_Telu (dev: 499, devtest: 506 instances)\n",
            "Creating dataloaders for tam_Taml (dev: 499, devtest: 506 instances)\n",
            "Creating dataloaders for quy_Latn (dev: 499, devtest: 506 instances)\n",
            "\n",
            "Data loaded from losses_xglm-564M_bs_2_pbp_True_ipt_-100.json.\n",
            "Data loaded from losses_gpt2_bs_2_pbp_True_ipt_-100.json.\n"
          ]
        }
      ],
      "source": [
        "XGLM_MODEL_NAME = \"facebook/xglm-564M\"  # XGLM-564M model name\n",
        "GPT2_MODEL_NAME = \"gpt2\"  # GPT-2 model name\n",
        "# LANGS_TO_CHECK = [\"spa_Latn\"]  # Languages to investigate\n",
        "LANGS_TO_CHECK = []  # Languages to investigate\n",
        "SAFE_XGLM_MODEL_NAME = XGLM_MODEL_NAME.replace(\"facebook/\", \"\")  # Safe string for directories and filenames\n",
        "\n",
        "# Don't mind the following if-else block, it's just to format the string for the filename\n",
        "if not LANGS_TO_CHECK:\n",
        "    STR_LANGS_TO_CHECK = \"_\"\n",
        "else:\n",
        "    STR_LANGS_TO_CHECK = f\"_{join_list_elements_with_char(LANGS_TO_CHECK)}_\"\n",
        "\n",
        "# Define both models\n",
        "model_xglm = load_model(XGLM_MODEL_NAME, verbose=False)\n",
        "model_gpt2 = load_model(GPT2_MODEL_NAME, verbose=False)\n",
        "\n",
        "# Define the filenames to save the losses to, so that we don't recalculate them all the time\n",
        "losses_xglm_filename = f\"losses_{SAFE_XGLM_MODEL_NAME}{STR_LANGS_TO_CHECK}bs_{BATCH_SIZE}_pbp_{PER_BATCH_PADDING}_ipt_{IGNORE_PADDING_TOKEN_INT}.json\"\n",
        "losses_gpt2_filename = f\"losses_{GPT2_MODEL_NAME}{STR_LANGS_TO_CHECK}bs_{BATCH_SIZE}_pbp_{PER_BATCH_PADDING}_ipt_{IGNORE_PADDING_TOKEN_INT}.json\"\n",
        "\n",
        "# Tokenize the dataset for both models\n",
        "print(\"Setting up XGLM dataset:\\n\")\n",
        "xglm_dataset, xglm_tokenizer = tokenize_dataset(orig_dataset_per_lang, XGLM_MODEL_NAME)\n",
        "xglm_dataset = batchify_dataset(xglm_dataset, xglm_tokenizer)\n",
        "print(\"\\nSetting up GPT-2 dataset:\\n\")\n",
        "gpt2_dataset, gpt2_tokenizer = tokenize_dataset(orig_dataset_per_lang, GPT2_MODEL_NAME)\n",
        "gpt2_dataset = batchify_dataset(gpt2_dataset, gpt2_tokenizer)\n",
        "print()\n",
        "\n",
        "# Load or generate the data, depending on the existence of the previously defined json files\n",
        "losses_xglm = load_or_generate_data(\n",
        "    \"../cache/losses\",\n",
        "    losses_xglm_filename,\n",
        "    calculate_losses,\n",
        "    model_xglm,\n",
        "    xglm_dataset,\n",
        "    pad_token_id=xglm_tokenizer.pad_token_id,\n",
        "    only_for_langs=LANGS_TO_CHECK,\n",
        "    model_name=XGLM_MODEL_NAME,\n",
        ")\n",
        "losses_gpt2 = load_or_generate_data(\n",
        "    \"../cache/losses\",\n",
        "    losses_gpt2_filename,\n",
        "    calculate_losses,\n",
        "    model_gpt2,\n",
        "    gpt2_dataset,\n",
        "    pad_token_id=gpt2_tokenizer.pad_token_id,\n",
        "    only_for_langs=LANGS_TO_CHECK,\n",
        "    model_name=GPT2_MODEL_NAME,\n",
        ")"
      ]
    },
    {
      "cell_type": "code",
      "execution_count": 20,
      "metadata": {
        "colab": {
          "base_uri": "https://localhost:8080/"
        },
        "id": "3BU--VWWyGiL",
        "outputId": "248084af-b08d-4b2b-be89-614c618be93f"
      },
      "outputs": [
        {
          "name": "stderr",
          "output_type": "stream",
          "text": [
            "/tmp/ipykernel_36544/3375620403.py:31: UserWarning: FigureCanvasAgg is non-interactive, and thus cannot be shown\n",
            "  fig.show()\n"
          ]
        },
        {
          "data": {
            "image/png": "[encoded data removed]",
            "text/plain": [
              "<Figure size 1000x600 with 1 Axes>"
            ]
          },
          "metadata": {},
          "output_type": "display_data"
        }
      ],
      "source": [
        "LANGS_TO_CHECK = LANGUAGES\n",
        "split_to_plot = \"dev\"\n",
        "\n",
        "# Prepare data for plotting\n",
        "labels = [lang.replace(\"_\", \"$\\mathrm{\\_}$\") for lang in LANGS_TO_CHECK]\n",
        "gpt2_losses = [np.mean(losses_gpt2[language][split_to_plot]) for language in LANGS_TO_CHECK]\n",
        "xglm_losses = [np.mean(losses_xglm[language][split_to_plot]) for language in LANGS_TO_CHECK]\n",
        "\n",
        "x = np.arange(len(labels))  # the label locations\n",
        "width = 0.35  # the width of the bars\n",
        "\n",
        "fig, ax = plt.subplots(figsize=(10, 6))\n",
        "rects1 = ax.bar(x - width / 2, gpt2_losses, width, label=\"GPT-2\", color=\"gray\")\n",
        "rects2 = ax.bar(x + width / 2, xglm_losses, width, label=\"XGLM\", color=\"black\")\n",
        "\n",
        "# format plot\n",
        "ax.set_title(\"XGLM-564M vs GPT-2 by Mean Language Modeling Loss\")\n",
        "ax.set_ylabel(\"Mean Loss\")\n",
        "ax.set_xlabel(\"Language\") \n",
        "ax.set_xticks(x)\n",
        "ax.set_xticklabels(labels, ha=\"center\")\n",
        "ax.legend()\n",
        "ax = autolabel(rects1, ax)\n",
        "ax = autolabel(rects2, ax)\n",
        "ax.grid(True, which=\"major\", color=\"k\", linestyle=\"-\", alpha=0.2)\n",
        "ax.grid(True, which=\"minor\", color=\"k\", linestyle=\"--\", alpha=0.1)\n",
        "ax.tick_params(axis='x', which='minor', bottom=False) # Disable minor ticks on the x-axis\n",
        "ax.minorticks_on()\n",
        "ax.set_axisbelow(True)\n",
        "fig.tight_layout()\n",
        "fig.show()"
      ]
    }
  ],
  "metadata": {
    "accelerator": "GPU",
    "colab": {
      "gpuType": "T4",
      "include_colab_link": true,
      "provenance": []
    },
    "kernelspec": {
      "display_name": "Python 3",
      "name": "python3"
    },
    "language_info": {
      "codemirror_mode": {
        "name": "ipython",
        "version": 3
      },
      "file_extension": ".py",
      "mimetype": "text/x-python",
      "name": "python",
      "nbconvert_exporter": "python",
      "pygments_lexer": "ipython3",
      "version": "3.11.7"
    }
  },
  "nbformat": 4,
  "nbformat_minor": 0
}
