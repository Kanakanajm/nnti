{
 "cells": [
  {
   "cell_type": "markdown",
   "metadata": {},
   "source": [
    "# Task 2: Visualize hidden representations of a model"
   ]
  },
  {
   "cell_type": "code",
   "execution_count": null,
   "metadata": {},
   "outputs": [],
   "source": [
    "import h5py\n",
    "import torch \n",
    "\n",
    "import matplotlib.pyplot as plt\n",
    "import numpy as np\n",
    "from sklearn.decomposition import PCA\n",
    "from sklearn.manifold import TSNE\n",
    "\n",
    "DATA_SET_NAME = \"facebook/flores\"  # Specify dataset name\n",
    "USE_SPLITS = [\"dev\", \"devtest\"]  # Set up the splits to download\n",
    "TORCH_DEVICE = torch.device(\"cuda\") if torch.cuda.is_available() else torch.device(\"cpu\")  # device to run the model on"
   ]
  },
  {
   "cell_type": "markdown",
   "metadata": {},
   "source": [
    "### **Define functions from Task 1**"
   ]
  },
  {
   "cell_type": "code",
   "execution_count": null,
   "metadata": {},
   "outputs": [],
   "source": [
    "# Languages to visualize\n",
    "LANGUAGES = [\"eng_Latn\", \"spa_Latn\", \"ita_Latn\", \"deu_Latn\", \"arb_Arab\", \"tel_Telu\", \"tam_Taml\", \"quy_Latn\", \"zho_Hans\"]\n",
    "dataset_per_lang = load_flores_dataset_per_language(LANGUAGES, subset=200)"
   ]
  }
 ],
 "metadata": {
  "kernelspec": {
   "display_name": "nnia",
   "language": "python",
   "name": "python3"
  },
  "language_info": {
   "codemirror_mode": {
    "name": "ipython",
    "version": 3
   },
   "file_extension": ".py",
   "mimetype": "text/x-python",
   "name": "python",
   "nbconvert_exporter": "python",
   "pygments_lexer": "ipython3",
   "version": "3.11.7"
  }
 },
 "nbformat": 4,
 "nbformat_minor": 2
}
